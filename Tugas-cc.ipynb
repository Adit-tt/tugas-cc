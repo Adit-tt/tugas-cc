{
 "cells": [
  {
   "cell_type": "code",
   "execution_count": 2,
   "id": "6680d033-be26-4719-bc77-104c526dd4b4",
   "metadata": {},
   "outputs": [
    {
     "name": "stdin",
     "output_type": "stream",
     "text": [
      "Masukkan suhu dalam Celcius:  20\n"
     ]
    },
    {
     "name": "stdout",
     "output_type": "stream",
     "text": [
      "20.0 derajat Celcius sama dengan 68.00 derajat Fahrenheit\n"
     ]
    }
   ],
   "source": [
    "        # Program konversi Celcius ke Fahrenheit\n",
    "        celcius = float(input(\"Masukkan suhu dalam Celcius: \"))\n",
    "        fahrenheit = (celcius * 9/5) + 32\n",
    "        print(f\"{celcius} derajat Celcius sama dengan {fahrenheit:.2f} derajat Fahrenheit\")"
   ]
  },
  {
   "cell_type": "code",
   "execution_count": null,
   "id": "0af358b8-8fef-4364-9b6e-539f4bae774a",
   "metadata": {},
   "outputs": [],
   "source": []
  }
 ],
 "metadata": {
  "kernelspec": {
   "display_name": "Python [conda env:base] *",
   "language": "python",
   "name": "conda-base-py"
  },
  "language_info": {
   "codemirror_mode": {
    "name": "ipython",
    "version": 3
   },
   "file_extension": ".py",
   "mimetype": "text/x-python",
   "name": "python",
   "nbconvert_exporter": "python",
   "pygments_lexer": "ipython3",
   "version": "3.12.7"
  }
 },
 "nbformat": 4,
 "nbformat_minor": 5
}
